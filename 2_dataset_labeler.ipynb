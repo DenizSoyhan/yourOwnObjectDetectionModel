{
 "cells": [
  {
   "cell_type": "code",
   "execution_count": 1,
   "id": "91800ec7",
   "metadata": {},
   "outputs": [],
   "source": [
    "import os\n",
    "import random\n",
    "import shutil"
   ]
  },
  {
   "cell_type": "code",
   "execution_count": 2,
   "id": "c4c4ac90",
   "metadata": {},
   "outputs": [],
   "source": [
    "class labellingTools:\n",
    "    # shuffling the images so the model doesn't make an incorrect correlation between images \n",
    "    def mkdir_shuffled_images(self):\n",
    "        if not os.path.exists(\"shuffled_images\"):\n",
    "            os.mkdir(\"shuffled_images\")\n",
    "\n",
    "        image_files = [f for f in os.listdir(\"images\") if f.endswith(\".png\")] #link the file that you put the images in\n",
    "        random.shuffle(image_files)\n",
    "\n",
    "        for img in image_files:\n",
    "            os.rename(f\"images/{img}\", f\"shuffled_images/img_{len(os.listdir('shuffled_images'))}.png\")\n",
    "\n",
    "    # later in the process this zip file will be uploaded to \"Google Drive\" \n",
    "    def zip_labeled_images(self):\n",
    "        if not os.path.exists(\"obj\"):\n",
    "            os.mkdir(\"obj\")\n",
    "\n",
    "        file_prefixes = [f.split('.')[0] for f in os.listdir(\"shuffled_images\") if f.endswith(\".txt\")]\n",
    "\n",
    "        for prefix in file_prefixes:\n",
    "            os.rename(f\"shuffled_images/{prefix}.txt\", f\"obj/{prefix}.txt\")\n",
    "            os.rename(f\"shuffled_images/{prefix}.png\", f\"obj/{prefix}.png\")\n",
    "\n",
    "        shutil.make_archive('yolov4-tiny/obj', 'zip', '.', 'obj')\n",
    "\n",
    "    # the yolov4 config files will be updated according to the number \n",
    "    # of objects you choose in your project\n",
    "    def update_config_files(self, classes):\n",
    "        with open(\"./yolov4-tiny/obj.names\", \"w\") as file:\n",
    "            file.write(\"\\n\".join(classes))\n",
    "\n",
    "        with open(\"./yolov4-tiny/yolov4-tiny-custom_template.cfg\", 'r') as file:\n",
    "            cfg_content = file.read()\n",
    "\n",
    "        updated_cfg_content = cfg_content.replace('_CLASS_NUMBER_', str(len(classes)))\n",
    "        updated_cfg_content = updated_cfg_content.replace('_NUMBER_OF_FILTERS_', str((len(classes) + 5) * 3))\n",
    "        updated_cfg_content = updated_cfg_content.replace('_MAX_BATCHES_', str(max(6000, len(classes) * 2000)))\n",
    "\n",
    "        with open(\"./yolov4-tiny/yolov4-tiny-custom.cfg\", 'w') as file:\n",
    "            file.write(updated_cfg_content)"
   ]
  },
  {
   "cell_type": "code",
   "execution_count": 3,
   "id": "34f81b80",
   "metadata": {},
   "outputs": [],
   "source": [
    "lbUtils = labellingTools()\n",
    "\n",
    "lbUtils.mkdir_shuffled_images() "
   ]
  },
  {
   "cell_type": "code",
   "execution_count": 4,
   "id": "bea6ab6e",
   "metadata": {},
   "outputs": [],
   "source": [
    "#After running the cell above go to the makesense.ai and label your images from the shuffled images"
   ]
  },
  {
   "cell_type": "code",
   "execution_count": null,
   "id": "5c3c45ba",
   "metadata": {},
   "outputs": [],
   "source": [
    "#Extract the .txt files from the zip that you got from makesense.ai and then put every .txt into the \n",
    "#same directory as the \"shuffled_images\""
   ]
  },
  {
   "cell_type": "code",
   "execution_count": 6,
   "id": "614caeba",
   "metadata": {},
   "outputs": [],
   "source": [
    "lbUtils = labellingTools()\n",
    "lbUtils.zip_labeled_images() #might take a couple of seconds"
   ]
  },
  {
   "cell_type": "code",
   "execution_count": 7,
   "id": "b15d858f",
   "metadata": {},
   "outputs": [],
   "source": [
    "classes = [\"YOUR\", \"OBJECT\", \"NAMES\", 'HERE',] #write them in the order of labelling that you did on makesense.ai\n",
    "                                               #also if you have more than 6 objects there is a color scheme section\n",
    "                                               #on the 4th file which we remind you there to update it also\n",
    "lbUtils = labellingTools()\n",
    "lbUtils.update_config_files(classes)\n",
    "\n"
   ]
  },
  {
   "cell_type": "code",
   "execution_count": 8,
   "id": "031cd9c9",
   "metadata": {},
   "outputs": [],
   "source": [
    "#Your yolov4-tiny directory is now ready to be uploaded to your Google Drive\n",
    "#Make sure the directory is uploaded in the root of your drive"
   ]
  }
 ],
 "metadata": {
  "kernelspec": {
   "display_name": "Python 3 (ipykernel)",
   "language": "python",
   "name": "python3"
  },
  "language_info": {
   "codemirror_mode": {
    "name": "ipython",
    "version": 3
   },
   "file_extension": ".py",
   "mimetype": "text/x-python",
   "name": "python",
   "nbconvert_exporter": "python",
   "pygments_lexer": "ipython3",
   "version": "3.11.2"
  }
 },
 "nbformat": 4,
 "nbformat_minor": 5
}
