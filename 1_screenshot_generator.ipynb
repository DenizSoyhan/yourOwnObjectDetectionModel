{
 "cells": [
  {
   "cell_type": "code",
   "execution_count": 1,
   "id": "fd5771de",
   "metadata": {},
   "outputs": [],
   "source": [
    "### This script is for you to create your own data set by generating screenshot.\n",
    "### You can change the time intervals for the screenshot and save them to an file of your own choosing.  "
   ]
  },
  {
   "cell_type": "code",
   "execution_count": null,
   "id": "3a650fd6",
   "metadata": {},
   "outputs": [],
   "source": [
    "import numpy as np\n",
    "import os\n",
    "from PIL import ImageGrab\n",
    "import cv2\n",
    "import time\n",
    "\n",
    "def screen_record(save_interval=3, save_path='./images/'): #interval time and save destination \n",
    "    last_save_time = time.time()\n",
    "    last_time = time.time()\n",
    "    screenshot_count = 0\n",
    "    if not os.path.exists(save_path):\n",
    "        os.makedirs(save_path)\n",
    "    while True:\n",
    "        printscreen = np.array(ImageGrab.grab())\n",
    "        print('loop took {} seconds'.format(time.time() - last_time))\n",
    "        last_time = time.time()\n",
    "        # Convert RGB to BGR\n",
    "        printscreen_bgr = cv2.cvtColor(printscreen, cv2.COLOR_RGB2BGR)\n",
    "    \n",
    "        \n",
    "        # Save the screenshot\n",
    "        if time.time() - last_save_time >= save_interval:\n",
    "            screenshot_count += 1\n",
    "            cv2.imwrite(save_path + f'screenshot_{screenshot_count}.png', printscreen_bgr)\n",
    "            last_save_time = time.time()\n",
    "        if cv2.waitKey(25) & 0xFF == ord('q'):\n",
    "            cv2.destroyAllWindows()\n",
    "            break\n",
    "\n",
    "screen_record()\n"
   ]
  },
  {
   "cell_type": "code",
   "execution_count": null,
   "id": "251df9cd",
   "metadata": {},
   "outputs": [],
   "source": [
    "#You can go to the second file if you are done with taking screenshots"
   ]
  }
 ],
 "metadata": {
  "kernelspec": {
   "display_name": "Python 3 (ipykernel)",
   "language": "python",
   "name": "python3"
  },
  "language_info": {
   "codemirror_mode": {
    "name": "ipython",
    "version": 3
   },
   "file_extension": ".py",
   "mimetype": "text/x-python",
   "name": "python",
   "nbconvert_exporter": "python",
   "pygments_lexer": "ipython3",
   "version": "3.11.2"
  }
 },
 "nbformat": 4,
 "nbformat_minor": 5
}
